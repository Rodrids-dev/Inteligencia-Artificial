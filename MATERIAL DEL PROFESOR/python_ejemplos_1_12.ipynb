{
 "cells": [
  {
   "cell_type": "markdown",
   "id": "54b388d0",
   "metadata": {},
   "source": [
    "\n",
    "# Python de **básico** a **intermedio** (Secciones 1–12)\n",
    "**Conceptos breves + ejemplos pequeños y completos** (sin TODOs).  \n",
    "Cada tema tiene una explicación corta y uno o más fragmentos de código listos para ejecutar.\n"
   ]
  },
  {
   "cell_type": "markdown",
   "id": "137f0f4d",
   "metadata": {},
   "source": [
    "\n",
    "## 1) ¿Qué es una **librería**? — `import`  \n",
    "**Concepto breve:** Una **librería** agrupa funciones y utilidades listas para usar.\n",
    "Importas lo que necesitas en lugar de re‑inventarlo.\n"
   ]
  },
  {
   "cell_type": "code",
   "execution_count": 2,
   "id": "22e84c9e",
   "metadata": {},
   "outputs": [
    {
     "name": "stdout",
     "output_type": "stream",
     "text": [
      "Raíz de 144: 12.0\n",
      "Tiro de dado: 3\n",
      "Cumpleaños: 2000-01-15\n"
     ]
    }
   ],
   "source": [
    "\n",
    "# Ejemplo: imports y uso inmediato\n",
    "import math\n",
    "import random\n",
    "from datetime import date\n",
    "\n",
    "raiz_144 = math.sqrt(144)          # raíz cuadrada\n",
    "dado = random.randint(1, 6)        # entero aleatorio 1..6\n",
    "cumple = date(2000, 1, 15)         # cambia a tu fecha real\n",
    "\n",
    "print(\"Raíz de 144:\", raiz_144)\n",
    "print(\"Tiro de dado:\", dado)\n",
    "print(\"Cumpleaños:\", cumple.isoformat())\n"
   ]
  },
  {
   "cell_type": "markdown",
   "id": "60d7a450",
   "metadata": {},
   "source": [
    "\n",
    "## 2) Variables y tipos de datos  \n",
    "**Concepto breve:** Una **variable** es un nombre que guarda un **valor**. El tipo se **infiera** automáticamente: `int`, `float`, `str`, `bool`, etc.\n"
   ]
  },
  {
   "cell_type": "code",
   "execution_count": 3,
   "id": "508bf125",
   "metadata": {},
   "outputs": [
    {
     "name": "stdout",
     "output_type": "stream",
     "text": [
      "María <class 'str'>\n",
      "17 <class 'int'>\n",
      "1.65 <class 'float'>\n",
      "True <class 'bool'>\n",
      "['Mate', 'Fis', 'Prog'] <class 'list'>\n",
      "(19.4, -99.1) <class 'tuple'>\n",
      "{1, 2, 3} <class 'set'>\n",
      "{'usuario': 'maria17', 'pais': 'MX'} <class 'dict'>\n"
     ]
    }
   ],
   "source": [
    "\n",
    "# Ejemplo: declarar variables y ver sus tipos\n",
    "nombre = \"María\"        # str\n",
    "edad = 17               # int\n",
    "altura_m = 1.65         # float\n",
    "estudiante = True       # bool\n",
    "materias = [\"Mate\", \"Fis\", \"Prog\"]  # list\n",
    "coordenadas = (19.4, -99.1)         # tuple\n",
    "unicos = {1, 2, 2, 3}               # set (sin duplicados)\n",
    "perfil = {\"usuario\": \"maria17\", \"pais\": \"MX\"}  # dict\n",
    "\n",
    "print(nombre, type(nombre))\n",
    "print(edad, type(edad))\n",
    "print(altura_m, type(altura_m))\n",
    "print(estudiante, type(estudiante))\n",
    "print(materias, type(materias))\n",
    "print(coordenadas, type(coordenadas))\n",
    "print(unicos, type(unicos))\n",
    "print(perfil, type(perfil))\n"
   ]
  },
  {
   "cell_type": "markdown",
   "id": "9860852f",
   "metadata": {},
   "source": [
    "\n",
    "## 3) Entrada/Salida y conversiones  \n",
    "**Concepto breve:** `print()` muestra información. `input()` lee texto (opcional en notebook).  \n",
    "Convierte tipos con `int()`, `float()`, `str()`, `bool()`.\n"
   ]
  },
  {
   "cell_type": "code",
   "execution_count": 4,
   "id": "cf80cd86",
   "metadata": {},
   "outputs": [
    {
     "name": "stdout",
     "output_type": "stream",
     "text": [
      "a=12.5 (float), b=3 (int) -> suma=15.5, división=4.17\n"
     ]
    }
   ],
   "source": [
    "\n",
    "# Ejemplo sin input (simulamos datos)\n",
    "a_texto = \"12.5\"\n",
    "b_texto = \"3\"\n",
    "\n",
    "a = float(a_texto)  # 12.5\n",
    "b = int(b_texto)    # 3\n",
    "\n",
    "suma = a + b\n",
    "division = a / b\n",
    "\n",
    "print(f\"a={a} (float), b={b} (int) -> suma={suma}, división={division:.2f}\")\n"
   ]
  },
  {
   "cell_type": "markdown",
   "id": "69c501c9",
   "metadata": {},
   "source": [
    "\n",
    "## 4) Operadores y expresiones  \n",
    "**Concepto breve:** Aritméticos `+ - * / // % **`, comparación `== != < <= > >=`, lógicos `and or not`.  \n",
    "La **precedencia** importa (usa paréntesis para claridad).\n"
   ]
  },
  {
   "cell_type": "code",
   "execution_count": 5,
   "id": "9b30fae1",
   "metadata": {},
   "outputs": [
    {
     "name": "stdout",
     "output_type": "stream",
     "text": [
      "2 + 3 * 4 = 14\n",
      "(2 + 3) * 4 = 20\n",
      "7 // 3 = 2  7 % 3 = 1\n",
      "2 ** 3 ** 2 = 512\n",
      "¿Aprueba? True\n"
     ]
    }
   ],
   "source": [
    "\n",
    "# Ejemplo de operadores\n",
    "print(\"2 + 3 * 4 =\", 2 + 3 * 4)           # 14\n",
    "print(\"(2 + 3) * 4 =\", (2 + 3) * 4)       # 20\n",
    "print(\"7 // 3 =\", 7 // 3, \" 7 % 3 =\", 7 % 3)  # 2 y 1\n",
    "print(\"2 ** 3 ** 2 =\", 2 ** 3 ** 2)       # 2 ** (3**2) = 2 ** 9 = 512\n",
    "\n",
    "# Lógicos: aprobar si promedio>=7 y asistencia>=0.8\n",
    "promedio, asistencia = 7.2, 0.85\n",
    "aprueba = (promedio >= 7) and (asistencia >= 0.8)\n",
    "print(\"¿Aprueba?\", aprueba)\n"
   ]
  },
  {
   "cell_type": "markdown",
   "id": "f3b46e07",
   "metadata": {},
   "source": [
    "\n",
    "## 5) Cadenas (strings)  \n",
    "**Concepto breve:** Texto con métodos útiles: `.lower()`, `.upper()`, `.strip()`, `.replace()`, `.split()`.  \n",
    "Usa **f-strings**: `f\"Hola {nombre}\"`.\n"
   ]
  },
  {
   "cell_type": "code",
   "execution_count": 6,
   "id": "e26a4445",
   "metadata": {},
   "outputs": [
    {
     "name": "stdout",
     "output_type": "stream",
     "text": [
      "Original: '   Python ES Genial  '\n",
      "Limpia: python es fantástico\n",
      "Palabras: ['python', 'es', 'fantástico']\n",
      "¿Anita lava la tina es palíndromo? True\n",
      "¿Hola mundo es palíndromo? False\n"
     ]
    }
   ],
   "source": [
    "\n",
    "# Limpieza y formateo\n",
    "s = \"   Python ES Genial  \"\n",
    "limpia = s.strip().lower().replace(\"genial\", \"fantástico\")\n",
    "palabras = limpia.split()\n",
    "\n",
    "print(\"Original:\", repr(s))\n",
    "print(\"Limpia:\", limpia)\n",
    "print(\"Palabras:\", palabras)\n",
    "\n",
    "# Pequeña utilidad: detectar palíndromos (ignorando espacios y mayúsculas)\n",
    "def es_palindromo(texto: str) -> bool:\n",
    "    t = \"\".join(ch.lower() for ch in texto if ch.isalnum())\n",
    "    return t == t[::-1]\n",
    "\n",
    "print(\"¿Anita lava la tina es palíndromo?\", es_palindromo(\"Anita lava la tina\"))\n",
    "print(\"¿Hola mundo es palíndromo?\", es_palindromo(\"Hola mundo\"))\n"
   ]
  },
  {
   "cell_type": "markdown",
   "id": "a353b155",
   "metadata": {},
   "source": [
    "\n",
    "## 6) Control de flujo: `if`, `for`, `while`  \n",
    "**Concepto breve:** `if` decide; `for` y `while` repiten.\n"
   ]
  },
  {
   "cell_type": "code",
   "execution_count": 7,
   "id": "dab42a4c",
   "metadata": {},
   "outputs": [
    {
     "name": "stdout",
     "output_type": "stream",
     "text": [
      "Suma de cuadrados 1..5 = 55\n",
      "Fibonacci (8): [0, 1, 1, 2, 3, 5, 8, 13]\n"
     ]
    }
   ],
   "source": [
    "\n",
    "# if + for: suma de cuadrados del 1 al 5\n",
    "suma_cuad = 0\n",
    "for n in range(1, 6):\n",
    "    cuadrado = n * n\n",
    "    if cuadrado % 2 == 0:\n",
    "        pass  # no hacemos nada especial; es solo de ejemplo\n",
    "    suma_cuad += cuadrado\n",
    "print(\"Suma de cuadrados 1..5 =\", suma_cuad)\n",
    "\n",
    "# while: generar primeros 8 Fibonacci\n",
    "fib = [0, 1]\n",
    "while len(fib) < 8:\n",
    "    fib.append(fib[-1] + fib[-2])\n",
    "print(\"Fibonacci (8):\", fib)\n"
   ]
  },
  {
   "cell_type": "markdown",
   "id": "c98839e6",
   "metadata": {},
   "source": [
    "\n",
    "## 7) Colecciones: listas, tuplas, conjuntos, diccionarios  \n",
    "**Concepto breve:**  \n",
    "- **Lista** `[]` ordenada y mutable.  \n",
    "- **Tupla** `()` ordenada e inmutable.  \n",
    "- **Conjunto** `{}` sin orden, sin duplicados.  \n",
    "- **Diccionario** `{clave: valor}` pares clave/valor.\n"
   ]
  },
  {
   "cell_type": "code",
   "execution_count": 8,
   "id": "2fd2fb6f",
   "metadata": {},
   "outputs": [
    {
     "name": "stdout",
     "output_type": "stream",
     "text": [
      "Lista compras: ['arroz', 'huevo', 'leche', 'manzana']  ¿leche? True\n",
      "Tupla punto: (3, 4)\n",
      "Únicos: {1, 2, 3}\n",
      "Promedio Ana: 9.0 Promedio grupo: 8.17\n"
     ]
    }
   ],
   "source": [
    "\n",
    "# Lista\n",
    "compras = [\"pan\", \"leche\", \"huevo\", \"arroz\"]\n",
    "compras.append(\"manzana\")\n",
    "compras.remove(\"pan\")\n",
    "compras.sort()\n",
    "print(\"Lista compras:\", compras, \" ¿leche?\", \"leche\" in compras)\n",
    "\n",
    "# Tupla\n",
    "punto = (3, 4)\n",
    "print(\"Tupla punto:\", punto)\n",
    "\n",
    "# Conjunto (quita duplicados)\n",
    "nums = [1, 2, 2, 3, 3, 3]\n",
    "unicos = set(nums)\n",
    "print(\"Únicos:\", unicos)\n",
    "\n",
    "# Diccionario\n",
    "calif = {\"Ana\": [9, 8, 10], \"Luis\": [7, 7, 8]}\n",
    "prom_ana = sum(calif[\"Ana\"]) / len(calif[\"Ana\"])\n",
    "prom_grupo = sum(sum(v) for v in calif.values()) / sum(len(v) for v in calif.values())\n",
    "print(\"Promedio Ana:\", prom_ana, \"Promedio grupo:\", round(prom_grupo, 2))\n"
   ]
  },
  {
   "cell_type": "markdown",
   "id": "8138c13a",
   "metadata": {},
   "source": [
    "\n",
    "## 8) Comprensiones (listas, sets y diccionarios)  \n",
    "**Concepto breve:** Atajos claros para construir colecciones a partir de iteraciones.\n"
   ]
  },
  {
   "cell_type": "code",
   "execution_count": 9,
   "id": "dad07be8",
   "metadata": {},
   "outputs": [
    {
     "name": "stdout",
     "output_type": "stream",
     "text": [
      "Cuadrados: [1, 4, 9, 16, 25, 36, 49, 64, 81, 100]\n",
      "Pares: [4, 16, 36, 64, 100]\n",
      "Inverso simple: {'Sofía': 'Física', 'Carlos': 'Historia'}\n",
      "Letras sin vocales: {'m', 'n', 'r', 'c', 'p', 'g'}\n"
     ]
    }
   ],
   "source": [
    "\n",
    "# Lista de cuadrados y filtrado de pares\n",
    "cuadrados = [n*n for n in range(1, 11)]\n",
    "pares = [x for x in cuadrados if x % 2 == 0]\n",
    "print(\"Cuadrados:\", cuadrados)\n",
    "print(\"Pares:\", pares)\n",
    "\n",
    "# Diccionario inverso (materia -> profe) => (profe -> materia)\n",
    "materia_a_profe = {\"Mate\": \"Sofía\", \"Física\": \"Sofía\", \"Historia\": \"Carlos\"}\n",
    "# Si un profe repite, guardamos una sola materia (ejemplo simple)\n",
    "profe_a_materia = {profe: materia for materia, profe in materia_a_profe.items()}\n",
    "print(\"Inverso simple:\", profe_a_materia)\n",
    "\n",
    "# Set comprehension: letras únicas sin vocales\n",
    "s = \"programación\"\n",
    "sin_vocales = {c for c in s if c not in \"aeiouáéíóú\"}\n",
    "print(\"Letras sin vocales:\", sin_vocales)\n"
   ]
  },
  {
   "cell_type": "markdown",
   "id": "6749b290",
   "metadata": {},
   "source": [
    "\n",
    "## 9) Funciones (`def`)  \n",
    "**Concepto breve:** Reúnen código reutilizable. Pueden tener argumentos con valores por defecto y devolver resultados.\n"
   ]
  },
  {
   "cell_type": "code",
   "execution_count": 10,
   "id": "d77f86ae",
   "metadata": {},
   "outputs": [
    {
     "name": "stdout",
     "output_type": "stream",
     "text": [
      "Área 5x2 = 10\n",
      "¿'Hola1234' es segura? True\n",
      "¿'hola' es segura? False\n"
     ]
    }
   ],
   "source": [
    "\n",
    "def area_rectangulo(base: float, altura: float = 1.0) -> float:\n",
    "    \"\"\"Calcula el área de un rectángulo.\"\"\"\n",
    "    return base * altura\n",
    "\n",
    "def es_segura(pw: str) -> bool:\n",
    "    \"\"\"Contraseña segura: >=8 y contiene mayúscula, minúscula y dígito.\"\"\"\n",
    "    return (\n",
    "        len(pw) >= 8 and\n",
    "        any(c.isupper() for c in pw) and\n",
    "        any(c.islower() for c in pw) and\n",
    "        any(c.isdigit() for c in pw)\n",
    "    )\n",
    "\n",
    "print(\"Área 5x2 =\", area_rectangulo(5, 2))\n",
    "print(\"¿'Hola1234' es segura?\", es_segura(\"Hola1234\"))\n",
    "print(\"¿'hola' es segura?\", es_segura(\"hola\"))\n"
   ]
  },
  {
   "cell_type": "markdown",
   "id": "a8403134",
   "metadata": {},
   "source": [
    "\n",
    "## 10) Módulos y paquetes  \n",
    "**Concepto breve:** Puedes **crear** un archivo `.py` con funciones y luego **importarlo**.\n"
   ]
  },
  {
   "cell_type": "code",
   "execution_count": 11,
   "id": "974bb418",
   "metadata": {},
   "outputs": [
    {
     "name": "stdout",
     "output_type": "stream",
     "text": [
      "Limpia: hola mundo, programación en python\n",
      "Vocales: {'a': 3, 'e': 1, 'i': 1, 'o': 4, 'u': 1, 'ó': 1}\n"
     ]
    }
   ],
   "source": [
    "\n",
    "# Creamos un módulo sencillo llamado utilidades.py\n",
    "contenido = '''\n",
    "def limpiar_texto(s: str) -> str:\n",
    "    return s.strip().lower()\n",
    "\n",
    "def contar_vocales(s: str) -> dict:\n",
    "    s = s.lower()\n",
    "    vocs = \"aeiouáéíóú\"\n",
    "    return {v: s.count(v) for v in vocs if s.count(v) > 0}\n",
    "'''.lstrip()\n",
    "\n",
    "with open(\"utilidades.py\", \"w\", encoding=\"utf-8\") as f:\n",
    "    f.write(contenido)\n",
    "\n",
    "# Lo importamos y usamos\n",
    "import utilidades as ut\n",
    "\n",
    "frase = \"  HOLA Mundo, Programación en PYTHON  \"\n",
    "print(\"Limpia:\", ut.limpiar_texto(frase))\n",
    "print(\"Vocales:\", ut.contar_vocales(frase))\n"
   ]
  },
  {
   "cell_type": "markdown",
   "id": "a236a04b",
   "metadata": {},
   "source": [
    "\n",
    "## 11) Archivos: leer y escribir  \n",
    "**Concepto breve:** Usa `with open(ruta, modo, encoding)` para garantizar cierre seguro.\n",
    "Modos comunes: `\"w\"` (escribir), `\"a\"` (añadir), `\"r\"` (leer).\n"
   ]
  },
  {
   "cell_type": "code",
   "execution_count": 12,
   "id": "019cbbd9",
   "metadata": {},
   "outputs": [
    {
     "name": "stdout",
     "output_type": "stream",
     "text": [
      "Notas leídas: [9.5, 8.0, 7.5, 10.0, 8.5]  Promedio: 8.7\n",
      "Top 5 palabras: [('hola', 3), ('prueba', 2), ('esto', 1), ('es', 1), ('una', 1)]\n"
     ]
    }
   ],
   "source": [
    "\n",
    "# Guardamos y leemos notas, luego calculamos promedio\n",
    "notas = [9.5, 8.0, 7.5, 10.0, 8.5]\n",
    "with open(\"notas.txt\", \"w\", encoding=\"utf-8\") as f:\n",
    "    for n in notas:\n",
    "        f.write(f\"{n}\\n\")\n",
    "\n",
    "leidas = []\n",
    "with open(\"notas.txt\", \"r\", encoding=\"utf-8\") as f:\n",
    "    for linea in f:\n",
    "        leidas.append(float(linea.strip()))\n",
    "\n",
    "promedio = sum(leidas) / len(leidas)\n",
    "print(\"Notas leídas:\", leidas, \" Promedio:\", round(promedio, 2))\n",
    "\n",
    "# Mini contador de palabras (simple)\n",
    "texto = \"¡Hola, hola! Esto es una prueba. Prueba simple; hola.\"\n",
    "with open(\"texto.txt\", \"w\", encoding=\"utf-8\") as f:\n",
    "    f.write(texto)\n",
    "\n",
    "import re\n",
    "with open(\"texto.txt\", \"r\", encoding=\"utf-8\") as f:\n",
    "    contenido = f.read().lower()\n",
    "    contenido = re.sub(r\"[^a-záéíóúñü\\s]\", \" \", contenido)  # quita signos\n",
    "    palabras = [p for p in contenido.split() if p]\n",
    "\n",
    "from collections import Counter\n",
    "top5 = Counter(palabras).most_common(5)\n",
    "print(\"Top 5 palabras:\", top5)\n"
   ]
  },
  {
   "cell_type": "markdown",
   "id": "aa468a5e",
   "metadata": {},
   "source": [
    "\n",
    "## 12) Errores y excepciones  \n",
    "**Concepto breve:** Maneja fallos con `try/except/else/finally`. Usa `raise` para lanzar errores con mensajes claros.\n"
   ]
  },
  {
   "cell_type": "code",
   "execution_count": 13,
   "id": "cbb2d9e7",
   "metadata": {},
   "outputs": [
    {
     "name": "stdout",
     "output_type": "stream",
     "text": [
      "10 / 2 = 5.0\n",
      "ValueError con (5, 0): No se puede dividir entre cero.\n",
      "TypeError con (9, 3): unsupported operand type(s) for /: 'str' and 'int'\n"
     ]
    }
   ],
   "source": [
    "\n",
    "def dividir_seguro(a, b):\n",
    "    if b == 0:\n",
    "        raise ValueError(\"No se puede dividir entre cero.\")\n",
    "    return a / b\n",
    "\n",
    "# Ejemplos con manejo de excepciones\n",
    "casos = [(10, 2), (5, 0), (\"9\", 3)]\n",
    "for x, y in casos:\n",
    "    try:\n",
    "        resultado = dividir_seguro(x, y)\n",
    "    except TypeError as e:\n",
    "        print(f\"TypeError con ({x}, {y}): {e}\")\n",
    "    except ValueError as e:\n",
    "        print(f\"ValueError con ({x}, {y}): {e}\")\n",
    "    else:\n",
    "        print(f\"{x} / {y} = {resultado}\")\n",
    "    finally:\n",
    "        pass  # lugar para liberar recursos si fuera necesario\n"
   ]
  }
 ],
 "metadata": {
  "kernelspec": {
   "display_name": "base",
   "language": "python",
   "name": "python3"
  },
  "language_info": {
   "codemirror_mode": {
    "name": "ipython",
    "version": 3
   },
   "file_extension": ".py",
   "mimetype": "text/x-python",
   "name": "python",
   "nbconvert_exporter": "python",
   "pygments_lexer": "ipython3",
   "version": "3.12.7"
  }
 },
 "nbformat": 4,
 "nbformat_minor": 5
}
